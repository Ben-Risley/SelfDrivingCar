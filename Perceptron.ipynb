{
  "nbformat": 4,
  "nbformat_minor": 0,
  "metadata": {
    "colab": {
      "name": "Perceptron.ipynb",
      "provenance": [],
      "collapsed_sections": []
    },
    "kernelspec": {
      "name": "python3",
      "display_name": "Python 3"
    },
    "language_info": {
      "name": "python"
    }
  },
  "cells": [
    {
      "cell_type": "code",
      "metadata": {
        "id": "1TnuCTmArGVJ"
      },
      "source": [
        "import numpy as np\n",
        "import tensorflow.keras\n",
        "from tensorflow.keras.models import Sequential\n",
        "from tensorflow.keras.layers import Dense\n",
        "from tensorflow.keras.optimizers import Adam\n",
        "import matplotlib.pyplot as plt\n",
        "%matplotlib inline\n",
        "n_pts = 500\n",
        "np.random.seed(0)\n",
        "Xa = np.array([np.random.normal(13, 2, n_pts),\n",
        "               np.random.normal(12, 2, n_pts)]).T\n",
        "Xb = np.array([np.random.normal(8, 2, n_pts),\n",
        "               np.random.normal(6, 2, n_pts)]).T\n",
        " \n",
        "X = np.vstack((Xa, Xb))\n",
        "y = np.matrix(np.append(np.zeros(n_pts), np.ones(n_pts))).T\n",
        " \n",
        "plt.scatter(X[:n_pts,0], X[:n_pts,1])\n",
        "plt.scatter(X[n_pts:,0], X[n_pts:,1])\n",
        "model = Sequential()\n",
        "model.add(Dense(units = 1, input_shape=(2,), activation=\"sigmoid\"))\n",
        "adam = Adam(lr = 0.1)\n",
        "model.compile(adam, loss=\"binary_crossentropy\", metrics=[\"accuracy\"])\n",
        "h = model.fit(x=X, y=y, verbose = 1, batch_size=50, epochs = 500, shuffle = \"true\")\n",
        "\n",
        "\n",
        "plt.plot(h.history['accuracy'])\n",
        "plt.title('accuracy')\n",
        "plt.xlabel('epoch')\n",
        "plt.legend(['accuracy'])\n",
        "plt.plot(h.history['loss'])\n",
        "plt.title('loss')\n",
        "plt.xlabel('epoch')\n",
        "plt.legend(['loss'])\n",
        "def plot_decision_boundary(X, y, model):\n",
        "  x_span = np.linspace(min(X[:,0])- 1, max(X[:,0])+1)\n",
        "  y_span = np.linspace(min(X[:,1])- 1, max(X[:,1])+1)\n",
        "  xx, yy = np.meshgrid(x_span, y_span)\n",
        "  xx_, yy_ = xx.ravel(), yy.ravel()\n",
        "\n",
        "  grid = np.c_[xx_,yy_] #concatting xx_ and yy_\n",
        "  pred_func = model.predict(grid)\n",
        "  z = pred_func.reshape(xx.shape)\n",
        "\n",
        "  plt.contourf(xx,yy,z)\n",
        "\n",
        "\n",
        "plot_decision_boundary(X, y, model)\n",
        "plt.scatter(X[:n_pts,0], X[:n_pts,1])\n",
        "plt.scatter(X[n_pts:,0], X[n_pts:,1])\n",
        "plot_decision_boundary(X, y, model)\n",
        "plt.scatter(X[:n_pts,0], X[:n_pts,1])\n",
        "plt.scatter(X[n_pts:,0], X[n_pts:,1])\n",
        "x = 7.5\n",
        "y = 5\n",
        "point = np.array([[x,y]])\n",
        "prediction = model.predict(point)\n",
        "plt.plot([x],[y], marker = \"o\", markersize = 10, color = \"red\")\n",
        "print(\"Prediction is:\", prediction);"
      ],
      "execution_count": 4,
      "outputs": []
    },
    {
      "cell_type": "code",
      "metadata": {
        "id": "1KSM15811zw1"
      },
      "source": [
        ""
      ],
      "execution_count": null,
      "outputs": []
    }
  ]
}